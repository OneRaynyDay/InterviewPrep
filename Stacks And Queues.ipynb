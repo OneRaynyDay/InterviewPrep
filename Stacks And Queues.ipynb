{
 "cells": [
  {
   "cell_type": "markdown",
   "metadata": {},
   "source": [
    "# My Little Interview Prep Book [Algorithms]"
   ]
  },
  {
   "cell_type": "markdown",
   "metadata": {},
   "source": [
    "**Stuff mentioned in this book: Data Structures and Algorithms**"
   ]
  },
  {
   "cell_type": "code",
   "execution_count": 1,
   "metadata": {
    "collapsed": true
   },
   "outputs": [],
   "source": [
    "# Just flushing out buffer asap.\n",
    "import sys\n",
    "oldsysstdout = sys.stdout\n",
    "class flushfile():\n",
    "    def __init__(self, f):\n",
    "        self.f = f\n",
    "    def __getattr__(self,name): \n",
    "        return object.__getattribute__(self.f, name)\n",
    "    def write(self, x):\n",
    "        self.f.write(x)\n",
    "        self.f.flush()\n",
    "    def flush(self):\n",
    "        self.f.flush()\n",
    "sys.stdout = flushfile(sys.stdout)"
   ]
  },
  {
   "cell_type": "markdown",
   "metadata": {},
   "source": [
    "## Stacks and Queues"
   ]
  },
  {
   "cell_type": "markdown",
   "metadata": {},
   "source": [
    "**Stack of Plates** : Imagine a stack of plates. If the stack gets too high, it might topple. We would likely start a new stack when the previous stack exceeds a threshold. Implement data struct SetOfStacks that mimics this.\n",
    "\n",
    "- _Composed of several stacks_\n",
    "\n",
    "- _New stack once previous exceeds capacity_"
   ]
  },
  {
   "cell_type": "code",
   "execution_count": 9,
   "metadata": {
    "collapsed": false
   },
   "outputs": [],
   "source": [
    "class Slice:\n",
    "    def __init__(self, data):\n",
    "        self.data = data\n",
    "        self.next = None\n",
    "\n",
    "class MultiStack:\n",
    "    def __init__(self, capacity):\n",
    "        self.stack_size = 0\n",
    "        self.stack_capacity = capacity\n",
    "        self.cur_index = 0\n",
    "        self.stack = []\n",
    "    def push(self, data):\n",
    "        ''' General guidelines for push:\n",
    "        When inserting into end of stack or start of the entire stack class:\n",
    "            create new stack and make that the initial Slice.\n",
    "        When inserting normally:\n",
    "            create new Slice and make the new Slice's next to previous head. Set new Slice as head.            \n",
    "        '''\n",
    "        if self.cur_index == self.stack_capacity or self.stack_size == 0:\n",
    "            self.stack.append(Slice(data))\n",
    "            print(\"Full stack : \" + str(data))\n",
    "            self.stack_size+=1\n",
    "            self.cur_index = 1\n",
    "        else:\n",
    "            s = Slice(data)\n",
    "            s.next = self.stack[self.stack_size-1]\n",
    "            self.stack[self.stack_size-1] = s\n",
    "            self.cur_index += 1\n",
    "            \n",
    "    def pop(self):\n",
    "        ''' General guidelines for pop:\n",
    "        When popping beginning of stack:\n",
    "            get value of the beginning of stack(when there's 1 element), and then set it to None and delete it\n",
    "        When popping normally:\n",
    "            get value of Slice and make the Slice equal to the next Slice\n",
    "        '''\n",
    "        # IF there are no more elements left:\n",
    "        if self.stack_size == 0:\n",
    "            return None\n",
    "        \n",
    "        rtVal = self.stack[self.stack_size-1].data\n",
    "        if self.cur_index == 1:\n",
    "            self.stack[self.stack_size-1] = None\n",
    "            del self.stack[self.stack_size-1]\n",
    "            self.cur_index = self.stack_capacity\n",
    "            self.stack_size -= 1\n",
    "            # in this case, cur_index goes to 0. Let's make\n",
    "            return rtVal\n",
    "        else:\n",
    "            self.stack[self.stack_size-1] = self.stack[self.stack_size-1].next\n",
    "            self.cur_index -= 1\n",
    "            return rtVal"
   ]
  },
  {
   "cell_type": "code",
   "execution_count": 10,
   "metadata": {
    "collapsed": false
   },
   "outputs": [
    {
     "name": "stdout",
     "output_type": "stream",
     "text": [
      "Full stack : 4\n",
      "Full stack : 1\n",
      "2\n",
      "1\n",
      "2\n",
      "---\n",
      "6\n",
      "1\n",
      "2\n",
      "4\n",
      "None\n"
     ]
    }
   ],
   "source": [
    "stack = MultiStack(2)\n",
    "stack.push(4)\n",
    "stack.push(2)\n",
    "stack.push(1)\n",
    "stack.push(6)\n",
    "\n",
    "print(stack.stack[0].data)\n",
    "print(stack.stack[1].next.data)\n",
    "print(stack.stack_size)\n",
    "\n",
    "print(\"---\")\n",
    "\n",
    "print(stack.pop())\n",
    "print(stack.pop())\n",
    "print(stack.pop())\n",
    "print(stack.pop())\n",
    "print(stack.pop())"
   ]
  },
  {
   "cell_type": "code",
   "execution_count": null,
   "metadata": {
    "collapsed": true,
    "scrolled": true
   },
   "outputs": [],
   "source": []
  },
  {
   "cell_type": "code",
   "execution_count": null,
   "metadata": {
    "collapsed": true
   },
   "outputs": [],
   "source": []
  }
 ],
 "metadata": {
  "kernelspec": {
   "display_name": "Python 2",
   "language": "python",
   "name": "python2"
  },
  "language_info": {
   "codemirror_mode": {
    "name": "ipython",
    "version": 2
   },
   "file_extension": ".py",
   "mimetype": "text/x-python",
   "name": "python",
   "nbconvert_exporter": "python",
   "pygments_lexer": "ipython2",
   "version": "2.7.11"
  }
 },
 "nbformat": 4,
 "nbformat_minor": 0
}
