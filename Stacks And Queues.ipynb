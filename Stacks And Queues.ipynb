{
 "cells": [
  {
   "cell_type": "markdown",
   "metadata": {},
   "source": [
    "# My Little Interview Prep Book [Algorithms]"
   ]
  },
  {
   "cell_type": "markdown",
   "metadata": {},
   "source": [
    "**Stuff mentioned in this book: Data Structures and Algorithms**"
   ]
  },
  {
   "cell_type": "code",
   "execution_count": 14,
   "metadata": {
    "collapsed": true
   },
   "outputs": [],
   "source": [
    "# Just flushing out buffer asap.\n",
    "import sys\n",
    "oldsysstdout = sys.stdout\n",
    "class flushfile():\n",
    "    def __init__(self, f):\n",
    "        self.f = f\n",
    "    def __getattr__(self,name): \n",
    "        return object.__getattribute__(self.f, name)\n",
    "    def write(self, x):\n",
    "        self.f.write(x)\n",
    "        self.f.flush()\n",
    "    def flush(self):\n",
    "        self.f.flush()\n",
    "sys.stdout = flushfile(sys.stdout)"
   ]
  },
  {
   "cell_type": "markdown",
   "metadata": {},
   "source": [
    "## Stacks and Queues"
   ]
  },
  {
   "cell_type": "markdown",
   "metadata": {},
   "source": [
    "**Stack of Plates** : Imagine a stack of plates. If the stack gets too high, it might topple. We would likely start a new stack when the previous stack exceeds a threshold. Implement data struct SetOfStacks that mimics this.\n",
    "\n",
    "- _Composed of several stacks_\n",
    "\n",
    "- _New stack once previous exceeds capacity_"
   ]
  },
  {
   "cell_type": "code",
   "execution_count": 15,
   "metadata": {
    "collapsed": false
   },
   "outputs": [],
   "source": [
    "class Slice:\n",
    "    def __init__(self, data):\n",
    "        self.data = data\n",
    "        self.next = None\n",
    "\n",
    "class MultiStack:\n",
    "    def __init__(self, capacity):\n",
    "        self.stack_size = 0\n",
    "        self.stack_capacity = capacity\n",
    "        self.cur_index = 0\n",
    "        self.stack = []\n",
    "    def push(self, data):\n",
    "        ''' General guidelines for push:\n",
    "        When inserting into end of stack or start of the entire stack class:\n",
    "            create new stack and make that the initial Slice.\n",
    "        When inserting normally:\n",
    "            create new Slice and make the new Slice's next to previous head. Set new Slice as head.            \n",
    "        '''\n",
    "        if self.cur_index == self.stack_capacity or self.stack_size == 0:\n",
    "            self.stack.append(Slice(data))\n",
    "            self.stack_size+=1\n",
    "            self.cur_index = 1\n",
    "        else:\n",
    "            s = Slice(data)\n",
    "            s.next = self.stack[self.stack_size-1]\n",
    "            self.stack[self.stack_size-1] = s\n",
    "            self.cur_index += 1\n",
    "            \n",
    "    def pop(self):\n",
    "        ''' General guidelines for pop:\n",
    "        When popping beginning of stack:\n",
    "            get value of the beginning of stack(when there's 1 element), and then set it to None and delete it\n",
    "        When popping normally:\n",
    "            get value of Slice and make the Slice equal to the next Slice\n",
    "        '''\n",
    "        # IF there are no more elements left:\n",
    "        if self.stack_size == 0:\n",
    "            return None\n",
    "        \n",
    "        rtVal = self.stack[self.stack_size-1].data\n",
    "        if self.cur_index == 1:\n",
    "            self.stack[self.stack_size-1] = None\n",
    "            del self.stack[self.stack_size-1]\n",
    "            self.cur_index = self.stack_capacity\n",
    "            self.stack_size -= 1\n",
    "            # in this case, cur_index goes to 0. Let's make\n",
    "            return rtVal\n",
    "        else:\n",
    "            self.stack[self.stack_size-1] = self.stack[self.stack_size-1].next\n",
    "            self.cur_index -= 1\n",
    "            return rtVal"
   ]
  },
  {
   "cell_type": "code",
   "execution_count": 16,
   "metadata": {
    "collapsed": false
   },
   "outputs": [
    {
     "name": "stdout",
     "output_type": "stream",
     "text": [
      "2\n",
      "1\n",
      "2\n",
      "---\n",
      "6\n",
      "1\n",
      "2\n",
      "4\n",
      "None\n",
      "6\n",
      "1\n",
      "2\n",
      "4\n",
      "None\n"
     ]
    }
   ],
   "source": [
    "stack = MultiStack(2)\n",
    "stack.push(4)\n",
    "stack.push(2)\n",
    "stack.push(1)\n",
    "stack.push(6)\n",
    "\n",
    "print(stack.stack[0].data)\n",
    "print(stack.stack[1].next.data)\n",
    "print(stack.stack_size)\n",
    "\n",
    "print(\"---\")\n",
    "\n",
    "print(stack.pop())\n",
    "print(stack.pop())\n",
    "print(stack.pop())\n",
    "print(stack.pop())\n",
    "print(stack.pop())\n",
    "\n",
    "stack.push(4)\n",
    "stack.push(2)\n",
    "stack.push(1)\n",
    "stack.push(6)\n",
    "\n",
    "print(stack.pop())\n",
    "print(stack.pop())\n",
    "print(stack.pop())\n",
    "print(stack.pop())\n",
    "print(stack.pop())"
   ]
  },
  {
   "cell_type": "markdown",
   "metadata": {},
   "source": [
    "**Queue via stacks**: create a DoubleStackQueue class which implements a queue using two stacks"
   ]
  },
  {
   "cell_type": "code",
   "execution_count": 24,
   "metadata": {
    "collapsed": false
   },
   "outputs": [
    {
     "name": "stdout",
     "output_type": "stream",
     "text": [
      "5\n",
      "6\n",
      "2\n",
      "10\n"
     ]
    }
   ],
   "source": [
    "class DoubleStackQueue:\n",
    "    def __init__(self):\n",
    "        self.s1 = []\n",
    "        self.s2 = []\n",
    "    def front(self):\n",
    "        ''' General Guidelines for front()\n",
    "        front should take the s1 and flip it onto s2. Now the first item is in the front. pop s2's first\n",
    "        stack frame and then flip the rest into s1.\n",
    "        '''\n",
    "        while len(self.s1) != 0:\n",
    "            self.s2.append(self.s1.pop())\n",
    "        retVal = self.s2.pop()\n",
    "        while len(self.s2) != 0:\n",
    "            self.s1.append(self.s2.pop())\n",
    "        return retVal\n",
    "    def push(self, val):\n",
    "        self.s1.append(val)\n",
    "    \n",
    "dsq = DoubleStackQueue()\n",
    "dsq.push(5)\n",
    "dsq.push(6)\n",
    "dsq.push(2)\n",
    "dsq.push(10)\n",
    "\n",
    "print(dsq.front())\n",
    "print(dsq.front())\n",
    "print(dsq.front())\n",
    "print(dsq.front())"
   ]
  },
  {
   "cell_type": "markdown",
   "metadata": {},
   "source": [
    "**Sort Stack**: Write a program to sort a stack such that the smallest items are on the top. You can use an additional temporary stack, but you may not copy the elements into ANY OTHER DATA STRUCTURE(array for e.x.). I can only use push(), pop(), peek() and isEmpty()."
   ]
  },
  {
   "cell_type": "code",
   "execution_count": 31,
   "metadata": {
    "collapsed": true
   },
   "outputs": [],
   "source": [
    "def sort_stack(stack):\n",
    "    ''' General Guidelines for sort_stack()\n",
    "    Given the stack, unload it into s1.\n",
    "    Traverse through the stack once and find the maximum value.\n",
    "    We now know the index, pop it until you get to the max value. \n",
    "    Pop max value onto s3\n",
    "    Pop rest of the values onto s2\n",
    "    \n",
    "    '''\n",
    "    # if the stack has a size of 1 or 0, it's already sorted!\n",
    "    if len(stack) < 2:\n",
    "        return stack\n",
    "    s1 = []\n",
    "    s2 = []\n",
    "    count = 0 # so far sorted 0 elements\n",
    "    \n",
    "    while count != len(stack)-1 : # while not all of the elements are sorted\n",
    "        # set the first val as the \"max\" for now. We need to find the actual one though:\n",
    "        maxVal = None\n",
    "        # this while loop gets the maximum from the stack\n",
    "        while len(stack) != count:\n",
    "            curVal = stack.pop()\n",
    "            if maxVal is None or maxVal < curVal:\n",
    "                # check if there is a value in the s2 stack\n",
    "                if len(s2) != 0:\n",
    "                    # pop the value into s1, because we know it's less than curVal\n",
    "                    s1.append(s2.pop())\n",
    "                # we will put the special \"max\" value in s2.\n",
    "                s2.append(curVal)\n",
    "                maxVal = curVal\n",
    "            else:\n",
    "                s1.append(curVal)\n",
    "        \n",
    "        # now reconstruct the stack with the bottom \n",
    "        stack.append(s2.pop())\n",
    "        while len(s1) != 0:\n",
    "            stack.append(s1.pop())\n",
    "        count += 1        "
   ]
  },
  {
   "cell_type": "code",
   "execution_count": 32,
   "metadata": {
    "collapsed": false
   },
   "outputs": [
    {
     "name": "stdout",
     "output_type": "stream",
     "text": [
      "[10, 8, 7, 6, 5, 5, 3, 2, 1]\n"
     ]
    }
   ],
   "source": [
    "stack = [5, 2, 3, 5, 6, 7, 1, 8, 10]\n",
    "\n",
    "sort_stack(stack)\n",
    "\n",
    "print(stack)"
   ]
  },
  {
   "cell_type": "code",
   "execution_count": null,
   "metadata": {
    "collapsed": true
   },
   "outputs": [],
   "source": []
  }
 ],
 "metadata": {
  "kernelspec": {
   "display_name": "Python 2",
   "language": "python",
   "name": "python2"
  },
  "language_info": {
   "codemirror_mode": {
    "name": "ipython",
    "version": 2
   },
   "file_extension": ".py",
   "mimetype": "text/x-python",
   "name": "python",
   "nbconvert_exporter": "python",
   "pygments_lexer": "ipython2",
   "version": "2.7.11"
  }
 },
 "nbformat": 4,
 "nbformat_minor": 0
}
