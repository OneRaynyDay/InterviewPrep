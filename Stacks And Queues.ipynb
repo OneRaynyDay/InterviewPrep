{
 "cells": [
  {
   "cell_type": "markdown",
   "metadata": {},
   "source": [
    "# My Little Interview Prep Book [Algorithms]"
   ]
  },
  {
   "cell_type": "markdown",
   "metadata": {},
   "source": [
    "**Stuff mentioned in this book: Data Structures and Algorithms**"
   ]
  },
  {
   "cell_type": "code",
   "execution_count": 14,
   "metadata": {
    "collapsed": true
   },
   "outputs": [],
   "source": [
    "# Just flushing out buffer asap.\n",
    "import sys\n",
    "oldsysstdout = sys.stdout\n",
    "class flushfile():\n",
    "    def __init__(self, f):\n",
    "        self.f = f\n",
    "    def __getattr__(self,name): \n",
    "        return object.__getattribute__(self.f, name)\n",
    "    def write(self, x):\n",
    "        self.f.write(x)\n",
    "        self.f.flush()\n",
    "    def flush(self):\n",
    "        self.f.flush()\n",
    "sys.stdout = flushfile(sys.stdout)"
   ]
  },
  {
   "cell_type": "markdown",
   "metadata": {},
   "source": [
    "## Stacks and Queues"
   ]
  },
  {
   "cell_type": "markdown",
   "metadata": {},
   "source": [
    "**Stack of Plates** : Imagine a stack of plates. If the stack gets too high, it might topple. We would likely start a new stack when the previous stack exceeds a threshold. Implement data struct SetOfStacks that mimics this.\n",
    "\n",
    "- _Composed of several stacks_\n",
    "\n",
    "- _New stack once previous exceeds capacity_"
   ]
  },
  {
   "cell_type": "code",
   "execution_count": 15,
   "metadata": {
    "collapsed": false
   },
   "outputs": [],
   "source": [
    "class Slice:\n",
    "    def __init__(self, data):\n",
    "        self.data = data\n",
    "        self.next = None\n",
    "\n",
    "class MultiStack:\n",
    "    def __init__(self, capacity):\n",
    "        self.stack_size = 0\n",
    "        self.stack_capacity = capacity\n",
    "        self.cur_index = 0\n",
    "        self.stack = []\n",
    "    def push(self, data):\n",
    "        ''' General guidelines for push:\n",
    "        When inserting into end of stack or start of the entire stack class:\n",
    "            create new stack and make that the initial Slice.\n",
    "        When inserting normally:\n",
    "            create new Slice and make the new Slice's next to previous head. Set new Slice as head.            \n",
    "        '''\n",
    "        if self.cur_index == self.stack_capacity or self.stack_size == 0:\n",
    "            self.stack.append(Slice(data))\n",
    "            self.stack_size+=1\n",
    "            self.cur_index = 1\n",
    "        else:\n",
    "            s = Slice(data)\n",
    "            s.next = self.stack[self.stack_size-1]\n",
    "            self.stack[self.stack_size-1] = s\n",
    "            self.cur_index += 1\n",
    "            \n",
    "    def pop(self):\n",
    "        ''' General guidelines for pop:\n",
    "        When popping beginning of stack:\n",
    "            get value of the beginning of stack(when there's 1 element), and then set it to None and delete it\n",
    "        When popping normally:\n",
    "            get value of Slice and make the Slice equal to the next Slice\n",
    "        '''\n",
    "        # IF there are no more elements left:\n",
    "        if self.stack_size == 0:\n",
    "            return None\n",
    "        \n",
    "        rtVal = self.stack[self.stack_size-1].data\n",
    "        if self.cur_index == 1:\n",
    "            self.stack[self.stack_size-1] = None\n",
    "            del self.stack[self.stack_size-1]\n",
    "            self.cur_index = self.stack_capacity\n",
    "            self.stack_size -= 1\n",
    "            # in this case, cur_index goes to 0. Let's make\n",
    "            return rtVal\n",
    "        else:\n",
    "            self.stack[self.stack_size-1] = self.stack[self.stack_size-1].next\n",
    "            self.cur_index -= 1\n",
    "            return rtVal"
   ]
  },
  {
   "cell_type": "code",
   "execution_count": 48,
   "metadata": {
    "collapsed": false
   },
   "outputs": [
    {
     "name": "stdout",
     "output_type": "stream",
     "text": [
      "2\n",
      "1\n",
      "2\n",
      "---\n",
      "6\n",
      "1\n",
      "2\n",
      "4\n",
      "None\n",
      "6\n",
      "1\n",
      "2\n",
      "4\n",
      "None\n"
     ]
    }
   ],
   "source": [
    "stack = MultiStack(2)\n",
    "stack.push(4)\n",
    "stack.push(2)\n",
    "stack.push(1)\n",
    "stack.push(6)\n",
    "\n",
    "print(stack.stack[0].data)\n",
    "print(stack.stack[1].next.data)\n",
    "print(stack.stack_size)\n",
    "\n",
    "print(\"---\")\n",
    "\n",
    "print(stack.pop())\n",
    "print(stack.pop())\n",
    "print(stack.pop())\n",
    "print(stack.pop())\n",
    "print(stack.pop())\n",
    "\n",
    "stack.push(4)\n",
    "stack.push(2)\n",
    "stack.push(1)\n",
    "stack.push(6)\n",
    "\n",
    "print(stack.pop())\n",
    "print(stack.pop())\n",
    "print(stack.pop())\n",
    "print(stack.pop())\n",
    "print(stack.pop())"
   ]
  },
  {
   "cell_type": "markdown",
   "metadata": {},
   "source": [
    "**Queue via stacks**: create a DoubleStackQueue class which implements a queue using two stacks"
   ]
  },
  {
   "cell_type": "code",
   "execution_count": 44,
   "metadata": {
    "collapsed": true
   },
   "outputs": [],
   "source": [
    "class DoubleStackQueue:\n",
    "    def __init__(self):\n",
    "        self.s1 = []\n",
    "        self.s2 = []\n",
    "    def front(self):\n",
    "        ''' General Guidelines for front()\n",
    "        front should take the s1 and flip it onto s2. Now the first item is in the front. pop s2's first\n",
    "        stack frame and then flip the rest into s1.\n",
    "        '''\n",
    "        self.flip(self.s2, self.s1)\n",
    "        retVal = self.s2.pop()\n",
    "        return retVal\n",
    "    def push(self, val):\n",
    "        self.flip(self.s1, self.s2)\n",
    "        self.s1.append(val)\n",
    "    ''' IMPLEMENTATION CHANGE: GAYLE LAAKMANN MCDOWELL SUGGESTS TO FLIP ONLY WHEN ALTERNATING. \n",
    "    This causes the amortized speed to go down an order of magnitude.\n",
    "    '''\n",
    "    def flip(self, s1, s2):\n",
    "        ''' flips s2 to s1 '''\n",
    "        while len(s2) != 0:\n",
    "            s1.append(s2.pop())"
   ]
  },
  {
   "cell_type": "code",
   "execution_count": 45,
   "metadata": {
    "collapsed": false
   },
   "outputs": [
    {
     "name": "stdout",
     "output_type": "stream",
     "text": [
      "5\n",
      "6\n",
      "2\n",
      "10\n"
     ]
    }
   ],
   "source": [
    "dsq = DoubleStackQueue()\n",
    "dsq.push(5)\n",
    "dsq.push(6)\n",
    "dsq.push(2)\n",
    "dsq.push(10)\n",
    "\n",
    "print(dsq.front())\n",
    "print(dsq.front())\n",
    "print(dsq.front())\n",
    "print(dsq.front())"
   ]
  },
  {
   "cell_type": "markdown",
   "metadata": {},
   "source": [
    "**Sort Stack**: Write a program to sort a stack such that the smallest items are on the top. You can use an additional temporary stack, but you may not copy the elements into ANY OTHER DATA STRUCTURE(array for e.x.). I can only use push(), pop(), peek() and isEmpty()."
   ]
  },
  {
   "cell_type": "code",
   "execution_count": 46,
   "metadata": {
    "collapsed": true
   },
   "outputs": [],
   "source": [
    "def sort_stack(stack):\n",
    "    ''' General Guidelines for sort_stack()\n",
    "    Given the stack, unload it into s1.\n",
    "    Traverse through the stack once and find the maximum value.\n",
    "    We now know the index, pop it until you get to the max value. \n",
    "    Pop max value onto s3\n",
    "    Pop rest of the values onto s2\n",
    "    \n",
    "    Quick question: What's the O() of this algorithm?\n",
    "    We can see that worst case while loop = O(N)\n",
    "    We can see inside the while loop = O(N + N-1 + N-2 + N-3 ... + 1) = O(N/2)\n",
    "    We can see the reconstruction while loop = O(N)\n",
    "    Therefore it is O(N * (N/2 + N)) = O(N^2) for this sort.\n",
    "    '''\n",
    "    # if the stack has a size of 1 or 0, it's already sorted!\n",
    "    if len(stack) < 2:\n",
    "        return stack\n",
    "    s1 = []\n",
    "    s2 = []\n",
    "    count = 0 # so far sorted 0 elements\n",
    "    \n",
    "    while count != len(stack)-1 : # while not all of the elements are sorted\n",
    "        # set the first val as the \"max\" for now. We need to find the actual one though:\n",
    "        maxVal = None\n",
    "        # this while loop gets the maximum from the stack\n",
    "        while len(stack) != count:\n",
    "            curVal = stack.pop()\n",
    "            if maxVal is None or maxVal < curVal:\n",
    "                # check if there is a value in the s2 stack\n",
    "                if len(s2) != 0:\n",
    "                    # pop the value into s1, because we know it's less than curVal\n",
    "                    s1.append(s2.pop())\n",
    "                # we will put the special \"max\" value in s2.\n",
    "                s2.append(curVal)\n",
    "                maxVal = curVal\n",
    "            else:\n",
    "                s1.append(curVal)\n",
    "        \n",
    "        # now reconstruct the stack with the bottom \n",
    "        stack.append(s2.pop())\n",
    "        while len(s1) != 0:\n",
    "            stack.append(s1.pop())\n",
    "        count += 1        "
   ]
  },
  {
   "cell_type": "code",
   "execution_count": 47,
   "metadata": {
    "collapsed": false
   },
   "outputs": [
    {
     "name": "stdout",
     "output_type": "stream",
     "text": [
      "[100, 10, 8, 7, 6, 5, 5, 3, 2, 1, 1]\n"
     ]
    }
   ],
   "source": [
    "stack = [5, 2, 3, 5, 6, 7, 1, 1, 100, 8, 10]\n",
    "\n",
    "sort_stack(stack)\n",
    "\n",
    "print(stack)"
   ]
  },
  {
   "cell_type": "markdown",
   "metadata": {},
   "source": [
    "**Animal Shelter** : An animal shelter, which holds only dogs and cats, operates on a strictly \"first in first out\" basis. Adopt either \"oldest\" or oldest dog or cat. "
   ]
  },
  {
   "cell_type": "code",
   "execution_count": 76,
   "metadata": {
    "collapsed": true
   },
   "outputs": [],
   "source": [
    "'''General Guidelines for Dog and Cat\n",
    "Dogs and cats are simply linkedlist nodes that points to the next dog or cat\n",
    "'''\n",
    "class Animal:\n",
    "    def __init__(self, name):\n",
    "        self.name = name\n",
    "        self.next = None\n",
    "    def get_animal_type(self):\n",
    "        pass\n",
    "    def get_name(self):\n",
    "        return self.name\n",
    "class Dog(Animal):\n",
    "    def __init__(self, name):\n",
    "        Animal.__init__(self, name)\n",
    "    def get_animal_type(self):\n",
    "        return \"Dog\"\n",
    "class Cat(Animal):\n",
    "    def __init__(self, name):\n",
    "        Animal.__init__(self, name)\n",
    "    def get_animal_type(self):\n",
    "        return \"Cat\"\n",
    "    "
   ]
  },
  {
   "cell_type": "code",
   "execution_count": 100,
   "metadata": {
    "collapsed": true
   },
   "outputs": [],
   "source": [
    "import numpy as np\n",
    "\n",
    "class AnimalShelter:\n",
    "    '''General Guidelines for AnimalShelter\n",
    "    Is basically a queue consisting of Dogs and Cats. We implement the queue with a circular array.\n",
    "    Make it hard for ourselves. Python is spoiling us of our CS skillz so let's import fixed sized array\n",
    "    from numpy.\n",
    "    '''\n",
    "    def __init__(self, capacity):\n",
    "        self.q = np.empty((capacity), dtype=object)\n",
    "        self.capacity = capacity\n",
    "        self.oldestCat = self.oldestDog = None\n",
    "        self.head = self.size = self.tail = 0\n",
    "    def iter_til_newest_animal(self, node):\n",
    "        while node is not None and node.next is not None:\n",
    "            node = node.next\n",
    "        return node\n",
    "    def push(self, animal):\n",
    "        ''' General Guidelines for push()\n",
    "        Do the normal push() stuff\n",
    "        Make sure when you add an animal, you link it to the previous Dog or the previous Cat\n",
    "        '''\n",
    "        if self.tail == self.head and self.size != 0:\n",
    "            return False\n",
    "        self.q[self.tail] = animal\n",
    "        \n",
    "        if animal.get_animal_type() == \"Cat\":\n",
    "            newCat = self.iter_til_newest_animal(self.oldestCat)\n",
    "            if newCat is None:\n",
    "                self.oldestCat = animal\n",
    "            else:\n",
    "                newCat.next = animal\n",
    "        else:\n",
    "            newDog = self.iter_til_newest_animal(self.oldestDog)\n",
    "            if newDog is None:\n",
    "                self.oldestDog = animal\n",
    "            else:\n",
    "                newDog.next = animal\n",
    "            \n",
    "        self.tail = (self.tail + 1) % self.capacity\n",
    "        self.size += 1\n",
    "        return True\n",
    "    def readjust(self, retVal):\n",
    "        temp = None\n",
    "        for i in range(self.size):\n",
    "            curIndex = (i+self.head) % self.capacity\n",
    "            nextIndex = (i+self.head+1) % self.capacity\n",
    "            temp = self.q[nextIndex]\n",
    "            self.q[nextIndex] = self.q[curIndex]\n",
    "            if retVal == temp:\n",
    "                break            \n",
    "    def pop(self):\n",
    "        if self.size == 0:\n",
    "            return None\n",
    "        retVal = self.q[self.head]\n",
    "        self.head = (self.head + 1) % self.capacity\n",
    "        self.size -= 1\n",
    "        return retVal\n",
    "    def popDog(self):\n",
    "        if self.size == 0 or self.oldestDog is None:\n",
    "            return None\n",
    "        retVal = self.oldestDog\n",
    "        self.oldestDog = self.oldestDog.next\n",
    "        # Now we possibly screwed up the queue, so let's readjust the head up one.\n",
    "        self.readjust(retVal)\n",
    "        return retVal\n",
    "    def popCat(self):\n",
    "        if self.size == 0 or self.oldestDog is None:\n",
    "            return None\n",
    "        retVal = self.oldestCat\n",
    "        self.oldestCat = self.oldestCat.next\n",
    "        # Now we possibly screwed up the queue, so let's readjust the head up one.\n",
    "        self.readjust(retVal)\n",
    "        return retVal\n",
    "        "
   ]
  },
  {
   "cell_type": "code",
   "execution_count": 101,
   "metadata": {
    "collapsed": false
   },
   "outputs": [
    {
     "name": "stdout",
     "output_type": "stream",
     "text": [
      "Dog\n",
      "Woofy\n",
      "---\n",
      "Woofy\n",
      "Sparky\n"
     ]
    }
   ],
   "source": [
    "d1 = Dog(\"Woofy\")\n",
    "d2 = Dog(\"Sparky\")\n",
    "\n",
    "c1 = Cat(\"Whiskers\")\n",
    "c2 = Cat(\"Cinnamon\")\n",
    "\n",
    "print(d1.get_animal_type())\n",
    "print(d1.get_name())\n",
    "print(\"---\")\n",
    "a_s = AnimalShelter(5)\n",
    "a_s.push(d1)\n",
    "a_s.push(c1)\n",
    "a_s.push(d2)\n",
    "a_s.push(c2)\n",
    "print(a_s.popDog().get_name())\n",
    "print(a_s.popDog().get_name())\n"
   ]
  }
 ],
 "metadata": {
  "kernelspec": {
   "display_name": "Python 2",
   "language": "python",
   "name": "python2"
  },
  "language_info": {
   "codemirror_mode": {
    "name": "ipython",
    "version": 2
   },
   "file_extension": ".py",
   "mimetype": "text/x-python",
   "name": "python",
   "nbconvert_exporter": "python",
   "pygments_lexer": "ipython2",
   "version": "2.7.11"
  }
 },
 "nbformat": 4,
 "nbformat_minor": 0
}
