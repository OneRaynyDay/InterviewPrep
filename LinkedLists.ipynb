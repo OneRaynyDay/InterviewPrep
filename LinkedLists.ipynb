{
 "cells": [
  {
   "cell_type": "markdown",
   "metadata": {},
   "source": [
    "# My Little Interview Prep Book [Algorithms] #"
   ]
  },
  {
   "cell_type": "markdown",
   "metadata": {},
   "source": [
    "**Stuff mentioned in this book : Data structures and Algorithms**"
   ]
  },
  {
   "cell_type": "code",
   "execution_count": 14,
   "metadata": {
    "collapsed": false
   },
   "outputs": [
    {
     "name": "stdout",
     "output_type": "stream",
     "text": [
      "\n"
     ]
    }
   ],
   "source": [
    "# Just flushing out buffer asap.\n",
    "import sys\n",
    "oldsysstdout = sys.stdout\n",
    "class flushfile():\n",
    "    def __init__(self, f):\n",
    "        self.f = f\n",
    "    def __getattr__(self,name): \n",
    "        return object.__getattribute__(self.f, name)\n",
    "    def write(self, x):\n",
    "        self.f.write(x)\n",
    "        self.f.flush()\n",
    "    def flush(self):\n",
    "        self.f.flush()\n",
    "sys.stdout = flushfile(sys.stdout)"
   ]
  },
  {
   "cell_type": "markdown",
   "metadata": {},
   "source": [
    "## Linked Lists"
   ]
  },
  {
   "cell_type": "markdown",
   "metadata": {},
   "source": [
    "**Remove Duplicates** : Write code to remove duplicates from unsorted linked list."
   ]
  },
  {
   "cell_type": "code",
   "execution_count": 33,
   "metadata": {
    "collapsed": true
   },
   "outputs": [],
   "source": [
    "# Just making some basic structures\n",
    "class Node:\n",
    "    def __init__(self, data):\n",
    "        self.data = data\n",
    "        self.next = None"
   ]
  },
  {
   "cell_type": "code",
   "execution_count": 57,
   "metadata": {
    "collapsed": false
   },
   "outputs": [
    {
     "name": "stdout",
     "output_type": "stream",
     "text": [
      "0\n",
      "6\n",
      "10\n",
      "1\n",
      "5\n",
      "2\n",
      "3\n",
      "5\n",
      "1\n",
      "3\n",
      "1\n"
     ]
    }
   ],
   "source": [
    "import random\n",
    "first = Node(0)\n",
    "curNode = first\n",
    "print(curNode.data)\n",
    "for i in range(10):\n",
    "    nextNode = Node(random.randint(1,10))\n",
    "    print(nextNode.data)\n",
    "    curNode.next = nextNode\n",
    "    curNode = nextNode"
   ]
  },
  {
   "cell_type": "code",
   "execution_count": 36,
   "metadata": {
    "collapsed": false
   },
   "outputs": [
    {
     "name": "stdout",
     "output_type": "stream",
     "text": [
      "Initial values ---\n",
      "0\n",
      "3\n",
      "8\n",
      "2\n",
      "9\n",
      "7\n",
      "2\n",
      "1\n",
      "4\n",
      "10\n",
      "10\n",
      "---\n",
      "0\n",
      "3\n",
      "8\n",
      "2\n",
      "9\n",
      "7\n",
      "1\n",
      "4\n",
      "10\n"
     ]
    }
   ],
   "source": [
    "# Now let's make the algorithm:\n",
    "# The naïve algorithm would be to have 1 pointer in front of another, and iterate one of the pointers until\n",
    "# the duplicate is reached. O(N^2)\n",
    "# However, we can do better: O(N)\n",
    "\n",
    "# Situation : 1->2->2->1\n",
    "# curNode = 1, runner = 2. curNode = 2, runner = 2\n",
    "\n",
    "print(\"Initial values ---\")\n",
    "curNode = first\n",
    "while curNode is not None:\n",
    "    print(curNode.data)\n",
    "    curNode = curNode.next\n",
    "print(\"---\")\n",
    "\n",
    "def remove_duplicates(first):\n",
    "    s = set()\n",
    "    curNode = first\n",
    "    runner = first.next\n",
    "\n",
    "    # exception case: if runner or curNode is already None:\n",
    "    if runner is None or curNode is None:\n",
    "        exit() # we are done\n",
    "\n",
    "    s.add(first.data) # because we'll be skipping over it.\n",
    "\n",
    "    while runner is not None:\n",
    "        if runner is not None: # If the current value of the \"runner\" is not None, then we can add it\n",
    "            s.add(runner.data)\n",
    "        curNode = runner # We set the current node now to runner.\n",
    "        while runner is not None and runner.data in s: # guarranteed to move at least once\n",
    "            runner = runner.next\n",
    "        curNode.next = runner  \n",
    "\n",
    "remove_duplicates(first)\n",
    "        \n",
    "curNode = first\n",
    "while curNode is not None:\n",
    "    print(curNode.data)\n",
    "    curNode = curNode.next"
   ]
  },
  {
   "cell_type": "markdown",
   "metadata": {},
   "source": [
    "**Partition**: Write code to partition a linkedlist around value x. Much like the quicksort partitioning. (God I hate this partition algorithm)"
   ]
  },
  {
   "cell_type": "code",
   "execution_count": 58,
   "metadata": {
    "collapsed": false
   },
   "outputs": [
    {
     "name": "stdout",
     "output_type": "stream",
     "text": [
      "5\n",
      "---\n",
      "0\n",
      "1\n",
      "2\n",
      "3\n",
      "1\n",
      "3\n",
      "1\n",
      "5\n",
      "6\n",
      "10\n",
      "5\n"
     ]
    }
   ],
   "source": [
    "# For linked lists, this algorithm is actually slightly easier since we can just make them into two batches.\n",
    "def partition(start, pivot):\n",
    "    lessStart = None\n",
    "    curLess = None\n",
    "    greaterStart = None\n",
    "    curGreater = None\n",
    "    curNode = start\n",
    "    while curNode is not None:\n",
    "        if curNode is pivot:\n",
    "            curNode = curNode.next\n",
    "            continue\n",
    "        elif curNode.data < pivot.data: # deciding where to put the node\n",
    "            if lessStart is None: # None initially.\n",
    "                lessStart = curNode\n",
    "                curLess = curNode\n",
    "            else: # Already exists\n",
    "                curLess.next = curNode\n",
    "                curLess = curNode\n",
    "        else:\n",
    "            if greaterStart is None:\n",
    "                greaterStart = curNode\n",
    "                curGreater = curNode\n",
    "            else:\n",
    "                curGreater.next = curNode\n",
    "                curGreater = curNode\n",
    "        curNode = curNode.next\n",
    "    curLess.next = pivot\n",
    "    pivot.next = greaterStart\n",
    "    curGreater.next = None\n",
    "    return lessStart\n",
    "\n",
    "# pick an arbitrary node in the list:\n",
    "arbitraryNode = first\n",
    "for i in range(4):\n",
    "    arbitraryNode = arbitraryNode.next\n",
    "print(arbitraryNode.data)\n",
    "print(\"---\")\n",
    "start = partition(first, arbitraryNode)\n",
    "\n",
    "while start is not None:\n",
    "    print(start.data)\n",
    "    start = start.next\n",
    "                \n",
    "    "
   ]
  },
  {
   "cell_type": "markdown",
   "metadata": {
    "collapsed": true
   },
   "source": [
    "**Palindrome** : Implement a function to check if linked list is a palindrome."
   ]
  },
  {
   "cell_type": "code",
   "execution_count": 64,
   "metadata": {
    "collapsed": false
   },
   "outputs": [
    {
     "name": "stdout",
     "output_type": "stream",
     "text": [
      "True\n"
     ]
    }
   ],
   "source": [
    "def isPalindrome(start):\n",
    "    stack = []\n",
    "\n",
    "    while start is not None:\n",
    "        stack.append(start.data)\n",
    "        start = start.next\n",
    "\n",
    "    for i in range(len(stack)):\n",
    "        if stack[i] != stack[len(stack)-1-i] :\n",
    "            return False\n",
    "    return True\n",
    "        \n",
    "print(isPalindrome(start))"
   ]
  },
  {
   "cell_type": "markdown",
   "metadata": {},
   "source": [
    "**Intersection** : Given two linked lists, determine if the two lists intersect. Return the intersecting node. Note that the intersection is defined based on reference NOT value. "
   ]
  },
  {
   "cell_type": "code",
   "execution_count": 67,
   "metadata": {
    "collapsed": false
   },
   "outputs": [
    {
     "name": "stdout",
     "output_type": "stream",
     "text": [
      "6\n",
      "5\n",
      "3\n",
      "9\n",
      "2\n",
      "5\n",
      "1\n",
      "10\n",
      "1\n",
      "4\n",
      "3\n",
      "30\n",
      "10\n",
      "---\n",
      "2\n",
      "10\n",
      "3\n",
      "5\n",
      "6\n",
      "6\n",
      "7\n",
      "30\n",
      "10\n"
     ]
    }
   ],
   "source": [
    "# initialize these linked lists\n",
    "firstNode = Node(6)\n",
    "secondNode = Node(2)\n",
    "\n",
    "curNode = firstNode\n",
    "for i in range(10):\n",
    "    temp = Node(random.randint(1,10))\n",
    "    curNode.next = temp\n",
    "    curNode = temp\n",
    "endFirst = curNode\n",
    "curNode = secondNode\n",
    "for i in range(6):\n",
    "    temp = Node(random.randint(1,10))\n",
    "    curNode.next = temp\n",
    "    curNode = temp\n",
    "\n",
    "curNode.next = Node(30) #This will be the flag for intersection\n",
    "endFirst.next = curNode.next\n",
    "curNode = curNode.next\n",
    "curNode.next = Node(10)\n",
    "\n",
    "tempStart = firstNode\n",
    "while tempStart is not None:\n",
    "    print(tempStart.data)\n",
    "    tempStart = tempStart.next\n",
    "tempStart = secondNode\n",
    "print(\"---\")\n",
    "while tempStart is not None:\n",
    "    print(tempStart.data)\n",
    "    tempStart = tempStart.next"
   ]
  },
  {
   "cell_type": "code",
   "execution_count": 70,
   "metadata": {
    "collapsed": false
   },
   "outputs": [
    {
     "data": {
      "text/plain": [
       "True"
      ]
     },
     "execution_count": 70,
     "metadata": {},
     "output_type": "execute_result"
    }
   ],
   "source": [
    "def isIntersect(list1, list2):\n",
    "    ctr1 = 0\n",
    "    start = list1\n",
    "    while start is not None:\n",
    "        ctr1 += 1\n",
    "        start = start.next\n",
    "    ctr2 = 0\n",
    "    start = list2\n",
    "    while start is not None:\n",
    "        ctr2 += 1\n",
    "        start = start.next\n",
    "    \n",
    "    # subtract the difference\n",
    "    offset = ctr2-ctr1\n",
    "    if offset < 0:\n",
    "        while offset != 0:\n",
    "            list1 = list1.next\n",
    "            offset += 1\n",
    "    else:\n",
    "        while offset != 0:\n",
    "            list2 = list2.next\n",
    "            offset -= 1\n",
    "    \n",
    "    while list2 is not None and list1 is not None:\n",
    "        if list2 == list1:\n",
    "            return True\n",
    "        list2 = list2.next\n",
    "        list1 = list1.next\n",
    "    return False\n",
    "\n",
    "isIntersect(firstNode, secondNode)"
   ]
  },
  {
   "cell_type": "code",
   "execution_count": null,
   "metadata": {
    "collapsed": true
   },
   "outputs": [],
   "source": []
  }
 ],
 "metadata": {
  "kernelspec": {
   "display_name": "Python 2",
   "language": "python",
   "name": "python2"
  },
  "language_info": {
   "codemirror_mode": {
    "name": "ipython",
    "version": 2
   },
   "file_extension": ".py",
   "mimetype": "text/x-python",
   "name": "python",
   "nbconvert_exporter": "python",
   "pygments_lexer": "ipython2",
   "version": "2.7.11"
  }
 },
 "nbformat": 4,
 "nbformat_minor": 0
}
