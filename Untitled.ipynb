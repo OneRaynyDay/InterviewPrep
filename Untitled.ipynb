{
 "cells": [
  {
   "cell_type": "markdown",
   "metadata": {},
   "source": [
    "# My Little Interview Prep Book [Algorithms] #"
   ]
  },
  {
   "cell_type": "markdown",
   "metadata": {},
   "source": [
    "**Stuff mentioned in this book : Data structures and Algorithms**"
   ]
  },
  {
   "cell_type": "markdown",
   "metadata": {},
   "source": [
    "## Linked Lists"
   ]
  },
  {
   "cell_type": "markdown",
   "metadata": {},
   "source": [
    "**Remove Duplicates** : Write code to remove duplicates from unsorted linked list."
   ]
  },
  {
   "cell_type": "code",
   "execution_count": 18,
   "metadata": {
    "collapsed": true
   },
   "outputs": [],
   "source": [
    "# Just flushing out buffer asap.\n",
    "import sys\n",
    "oldsysstdout = sys.stdout\n",
    "class flushfile():\n",
    "    def __init__(self, f):\n",
    "        self.f = f\n",
    "    def __getattr__(self,name): \n",
    "        return object.__getattribute__(self.f, name)\n",
    "    def write(self, x):\n",
    "        self.f.write(x)\n",
    "        self.f.flush()\n",
    "    def flush(self):\n",
    "        self.f.flush()\n",
    "sys.stdout = flushfile(sys.stdout)"
   ]
  },
  {
   "cell_type": "code",
   "execution_count": 19,
   "metadata": {
    "collapsed": true
   },
   "outputs": [],
   "source": [
    "# Just making some basic structures\n",
    "class Node:\n",
    "    def __init__(self, data):\n",
    "        self.data = data\n",
    "        self.next = None"
   ]
  },
  {
   "cell_type": "code",
   "execution_count": 55,
   "metadata": {
    "collapsed": false
   },
   "outputs": [],
   "source": [
    "import random\n",
    "first = Node(0)\n",
    "curNode = first\n",
    "for i in range(10):\n",
    "    nextNode = Node(random.randint(1,10))\n",
    "    curNode.next = nextNode\n",
    "    curNode = nextNode"
   ]
  },
  {
   "cell_type": "code",
   "execution_count": 56,
   "metadata": {
    "collapsed": false
   },
   "outputs": [
    {
     "name": "stdout",
     "output_type": "stream",
     "text": [
      "Initial values ---\n",
      "0\n",
      "5\n",
      "4\n",
      "9\n",
      "10\n",
      "2\n",
      "3\n",
      "2\n",
      "7\n",
      "1\n",
      "2\n",
      "---\n",
      "Done!\n",
      "0\n",
      "5\n",
      "4\n",
      "9\n",
      "10\n",
      "2\n",
      "3\n",
      "7\n",
      "1\n"
     ]
    }
   ],
   "source": [
    "# Now let's make the algorithm:\n",
    "# The naïve algorithm would be to have 1 pointer in front of another, and iterate one of the pointers until\n",
    "# the duplicate is reached. O(N^2)\n",
    "# However, we can do better: O(N)\n",
    "\n",
    "# Situation : 1->2->2->1\n",
    "# curNode = 1, runner = 2. curNode = 2, runner = 2\n",
    "\n",
    "print(\"Initial values ---\")\n",
    "curNode = first\n",
    "while curNode is not None:\n",
    "    print(curNode.data)\n",
    "    curNode = curNode.next\n",
    "print(\"---\")\n",
    "\n",
    "s = set()\n",
    "curNode = first\n",
    "runner = first.next\n",
    "\n",
    "# exception case: if runner or curNode is already None:\n",
    "if runner is None or curNode is None:\n",
    "    exit() # we are done\n",
    "\n",
    "s.add(first.data) # because we'll be skipping over it.\n",
    "\n",
    "while runner is not None:\n",
    "    if runner is not None: # If the current value of the \"runner\" is not None, then we can add it\n",
    "        s.add(runner.data)\n",
    "    curNode = runner # We set the current node now to runner.\n",
    "    while runner is not None and runner.data in s: # guarranteed to move at least once\n",
    "        runner = runner.next\n",
    "    curNode.next = runner\n",
    "\n",
    "print (\"Done!\")    \n",
    "\n",
    "curNode = first\n",
    "while curNode is not None:\n",
    "    print(curNode.data)\n",
    "    curNode = curNode.next"
   ]
  },
  {
   "cell_type": "code",
   "execution_count": null,
   "metadata": {
    "collapsed": true
   },
   "outputs": [],
   "source": []
  }
 ],
 "metadata": {
  "kernelspec": {
   "display_name": "Python 2",
   "language": "python",
   "name": "python2"
  },
  "language_info": {
   "codemirror_mode": {
    "name": "ipython",
    "version": 2
   },
   "file_extension": ".py",
   "mimetype": "text/x-python",
   "name": "python",
   "nbconvert_exporter": "python",
   "pygments_lexer": "ipython2",
   "version": "2.7.11"
  }
 },
 "nbformat": 4,
 "nbformat_minor": 0
}
