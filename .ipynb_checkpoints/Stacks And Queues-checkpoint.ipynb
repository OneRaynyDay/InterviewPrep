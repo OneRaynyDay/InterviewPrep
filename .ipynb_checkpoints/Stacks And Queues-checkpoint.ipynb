{
 "cells": [
  {
   "cell_type": "markdown",
   "metadata": {},
   "source": [
    "# My Little Interview Prep Book [Algorithms]"
   ]
  },
  {
   "cell_type": "markdown",
   "metadata": {},
   "source": [
    "**Stuff mentioned in this book: Data Structures and Algorithms**"
   ]
  },
  {
   "cell_type": "code",
   "execution_count": 1,
   "metadata": {
    "collapsed": true
   },
   "outputs": [],
   "source": [
    "# Just flushing out buffer asap.\n",
    "import sys\n",
    "oldsysstdout = sys.stdout\n",
    "class flushfile():\n",
    "    def __init__(self, f):\n",
    "        self.f = f\n",
    "    def __getattr__(self,name): \n",
    "        return object.__getattribute__(self.f, name)\n",
    "    def write(self, x):\n",
    "        self.f.write(x)\n",
    "        self.f.flush()\n",
    "    def flush(self):\n",
    "        self.f.flush()\n",
    "sys.stdout = flushfile(sys.stdout)"
   ]
  },
  {
   "cell_type": "markdown",
   "metadata": {},
   "source": [
    "## Stacks and Queues"
   ]
  },
  {
   "cell_type": "markdown",
   "metadata": {},
   "source": [
    "**Stack of Plates** : Imagine a stack of plates. If the stack gets too high, it might topple. We would likely start a new stack when the previous stack exceeds a threshold. Implement data struct SetOfStacks that mimics this.\n",
    "\n",
    "- _Composed of several stacks_\n",
    "\n",
    "- _New stack once previous exceeds capacity_"
   ]
  },
  {
   "cell_type": "code",
   "execution_count": 99,
   "metadata": {
    "collapsed": false
   },
   "outputs": [],
   "source": [
    "class Slice:\n",
    "    def __init__(self, data):\n",
    "        self.data = data\n",
    "        self.next = None\n",
    "\n",
    "class MultiStack:\n",
    "    def __init__(self, capacity):\n",
    "        self.stack_size = 0\n",
    "        self.stack_capacity = capacity\n",
    "        self.cur_size = 0\n",
    "        self.stack = []\n",
    "    def push(self, data):\n",
    "        # If there is a size of 0, we've gone to a new stack\n",
    "        if self.cur_size == 0:\n",
    "            self.cur_size = 0\n",
    "            self.stack_size += 1\n",
    "            self.stack.append(Slice(data))\n",
    "        else:\n",
    "            curSlice = Slice(data)\n",
    "            curSlice.next = self.stack[self.stack_size-1]\n",
    "            self.stack[self.stack_size-1] = curSlice\n",
    "        self.cur_size = (self.cur_size + 1) % self.stack_capacity\n",
    "    def pop(self):\n",
    "        # If we already removed all elements.\n",
    "        if self.stack_size == 0:\n",
    "            return None\n",
    "        \n",
    "        # If the previous size was 1, this is the only element. We must remove the linkedlist\n",
    "        returnVal = self.stack[self.stack_size-1]\n",
    "        \n",
    "        # In our push() function, we added the cur_size for easier insertion.\n",
    "        # Now we need to take care of when the cur_size is 0. \n",
    "        # Just go backwards.\n",
    "        if self.cur_size == 0:\n",
    "            self.cur_size = self.stack_capacity - 1 \n",
    "            # This is inserted because we change the stack_size in the if statement\n",
    "            returnVal = self.stack[self.stack_size-1]\n",
    "            self.stack[self.stack_size-1] = self.stack[self.stack_size-1].next\n",
    "            return returnVal.data\n",
    "        \n",
    "        self.stack[self.stack_size-1] = self.stack[self.stack_size-1].next\n",
    "        \n",
    "        if self.cur_size == 1:\n",
    "            del self.stack[self.stack_size-1]\n",
    "            if self.stack_size > 1:\n",
    "                self.cur_size = self.stack_capacity-1;\n",
    "            else:\n",
    "                self.cur_size = 0;\n",
    "            self.stack_size -= 1\n",
    "            return returnVal.data\n",
    "\n",
    "        self.cur_size -= 1\n",
    "        return returnVal.data\n",
    "\n",
    "        "
   ]
  },
  {
   "cell_type": "code",
   "execution_count": 100,
   "metadata": {
    "collapsed": false
   },
   "outputs": [
    {
     "name": "stdout",
     "output_type": "stream",
     "text": [
      "2\n",
      "6\n",
      "--\n",
      "0\n",
      "6\n",
      "1\n",
      "2\n",
      "[]\n",
      "0\n"
     ]
    },
    {
     "ename": "IndexError",
     "evalue": "list index out of range",
     "output_type": "error",
     "traceback": [
      "\u001b[0;31m---------------------------------------------------------------------------\u001b[0m",
      "\u001b[0;31mIndexError\u001b[0m                                Traceback (most recent call last)",
      "\u001b[0;32m<ipython-input-100-53cf0dbf6831>\u001b[0m in \u001b[0;36m<module>\u001b[0;34m()\u001b[0m\n\u001b[1;32m     13\u001b[0m \u001b[0;32mprint\u001b[0m\u001b[0;34m(\u001b[0m\u001b[0mstack\u001b[0m\u001b[0;34m.\u001b[0m\u001b[0mstack\u001b[0m\u001b[0;34m)\u001b[0m\u001b[0;34m\u001b[0m\u001b[0m\n\u001b[1;32m     14\u001b[0m \u001b[0;32mprint\u001b[0m\u001b[0;34m(\u001b[0m\u001b[0mstack\u001b[0m\u001b[0;34m.\u001b[0m\u001b[0mcur_size\u001b[0m\u001b[0;34m)\u001b[0m\u001b[0;34m\u001b[0m\u001b[0m\n\u001b[0;32m---> 15\u001b[0;31m \u001b[0;32mprint\u001b[0m\u001b[0;34m(\u001b[0m\u001b[0mstack\u001b[0m\u001b[0;34m.\u001b[0m\u001b[0mpop\u001b[0m\u001b[0;34m(\u001b[0m\u001b[0;34m)\u001b[0m\u001b[0;34m)\u001b[0m\u001b[0;34m\u001b[0m\u001b[0m\n\u001b[0m",
      "\u001b[0;32m<ipython-input-99-7c5ea63b280d>\u001b[0m in \u001b[0;36mpop\u001b[0;34m(self)\u001b[0m\n\u001b[1;32m     23\u001b[0m     \u001b[0;32mdef\u001b[0m \u001b[0mpop\u001b[0m\u001b[0;34m(\u001b[0m\u001b[0mself\u001b[0m\u001b[0;34m)\u001b[0m\u001b[0;34m:\u001b[0m\u001b[0;34m\u001b[0m\u001b[0m\n\u001b[1;32m     24\u001b[0m         \u001b[0;31m# If the previous size was 1, this is the only element. We must remove the linkedlist\u001b[0m\u001b[0;34m\u001b[0m\u001b[0;34m\u001b[0m\u001b[0m\n\u001b[0;32m---> 25\u001b[0;31m         \u001b[0mreturnVal\u001b[0m \u001b[0;34m=\u001b[0m \u001b[0mself\u001b[0m\u001b[0;34m.\u001b[0m\u001b[0mstack\u001b[0m\u001b[0;34m[\u001b[0m\u001b[0mself\u001b[0m\u001b[0;34m.\u001b[0m\u001b[0mstack_size\u001b[0m\u001b[0;34m-\u001b[0m\u001b[0;36m1\u001b[0m\u001b[0;34m]\u001b[0m\u001b[0;34m\u001b[0m\u001b[0m\n\u001b[0m\u001b[1;32m     26\u001b[0m \u001b[0;34m\u001b[0m\u001b[0m\n\u001b[1;32m     27\u001b[0m         \u001b[0;31m# If we already removed all elements.\u001b[0m\u001b[0;34m\u001b[0m\u001b[0;34m\u001b[0m\u001b[0m\n",
      "\u001b[0;31mIndexError\u001b[0m: list index out of range"
     ]
    }
   ],
   "source": [
    "stack = MultiStack(2)\n",
    "stack.push(4)\n",
    "stack.push(2)\n",
    "stack.push(1)\n",
    "stack.push(6)\n",
    "print(stack.stack[0].data)\n",
    "print(stack.stack[1].data)\n",
    "print(\"--\")\n",
    "print(stack.cur_size)\n",
    "print(stack.pop())\n",
    "print(stack.pop())\n",
    "print(stack.pop())\n",
    "print(stack.stack)\n",
    "print(stack.cur_size)\n",
    "print(stack.pop())\n"
   ]
  },
  {
   "cell_type": "code",
   "execution_count": null,
   "metadata": {
    "collapsed": true,
    "scrolled": true
   },
   "outputs": [],
   "source": []
  }
 ],
 "metadata": {
  "kernelspec": {
   "display_name": "Python 2",
   "language": "python",
   "name": "python2"
  },
  "language_info": {
   "codemirror_mode": {
    "name": "ipython",
    "version": 2
   },
   "file_extension": ".py",
   "mimetype": "text/x-python",
   "name": "python",
   "nbconvert_exporter": "python",
   "pygments_lexer": "ipython2",
   "version": "2.7.11"
  }
 },
 "nbformat": 4,
 "nbformat_minor": 0
}
